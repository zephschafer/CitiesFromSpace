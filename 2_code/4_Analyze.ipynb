{
 "cells": [
  {
   "cell_type": "markdown",
   "metadata": {},
   "source": [
    "# Analyze the Data\n",
    "\n",
    "#### 1 - Load Clean Building Data\n",
    "#### 2 - Analyze\n",
    "####   \n"
   ]
  },
  {
   "cell_type": "markdown",
   "metadata": {},
   "source": [
    "### Import Modules and Data\n"
   ]
  },
  {
   "cell_type": "code",
   "execution_count": 1,
   "metadata": {},
   "outputs": [],
   "source": [
    "import rasterio\n",
    "from tqdm import tqdm_notebook as tqdm\n",
    "from scipy.spatial import Voronoi, voronoi_plot_2d\n",
    "import matplotlib.cm as cm\n",
    "import random\n",
    "import pandas as pd\n",
    "import numpy as np\n",
    "import seaborn as sns; sns.set()\n",
    "import matplotlib.pyplot as plt\n",
    "import time\n",
    "import warnings\n",
    "warnings.filterwarnings('ignore')\n",
    "from mpl_toolkits.mplot3d import axes3d"
   ]
  },
  {
   "cell_type": "code",
   "execution_count": 2,
   "metadata": {},
   "outputs": [],
   "source": [
    "# Set Main Directories\n",
    "project_folder = '../'\n",
    "data_folder = project_folder + '1_data/'"
   ]
  },
  {
   "cell_type": "code",
   "execution_count": null,
   "metadata": {},
   "outputs": [],
   "source": [
    "# Start the clock\n",
    "start_time = time.time()"
   ]
  },
  {
   "cell_type": "markdown",
   "metadata": {},
   "source": [
    "### Get Data - CSV Verion"
   ]
  },
  {
   "cell_type": "code",
   "execution_count": 3,
   "metadata": {},
   "outputs": [],
   "source": [
    "bldngs_grps_initial = pd.read_csv(data_folder + \"bldng_groups.csv\")\n",
    "bldngs_grps_initial.drop(columns=['Unnamed: 0'], inplace=True)\n",
    "bldngs = pd.read_csv(data_folder + \"bldngs.csv\")\n",
    "bldngs.drop(columns=['Unnamed: 0'], inplace=True)"
   ]
  },
  {
   "cell_type": "code",
   "execution_count": null,
   "metadata": {},
   "outputs": [],
   "source": [
    "# Regroup\n",
    "for place in ['lat','long']:\n",
    "    bldngs['group_' + str(place)] = bldngs[str(place) + 'itude']\\\n",
    "                            .apply(lambda x: round(x / 0.003) * 0.003)\n",
    "bldngs['count'] = 1\n",
    "bldngs_grps = bldngs.drop(columns=['latitude','longitude'])\\\n",
    "                          .groupby(['group_long', 'group_lat'])\\\n",
    "                            .sum()\\\n",
    "                            .sort_values(by='count', ascending=True)\\\n",
    "                            .reset_index()"
   ]
  },
  {
   "cell_type": "code",
   "execution_count": null,
   "metadata": {},
   "outputs": [],
   "source": [
    "print \"Total Buildings: \" + \"{:,}\".format(len(bldngs))\n",
    "print \"Total Groups: \" + \"{:,}\".format(len(bldngs_grps))\n",
    "print \"Group Reduction from HectoMeter: \" \\\n",
    "        + \"{:,}\".format(len(bldngs_grps_initial)-len(bldngs_grps))"
   ]
  },
  {
   "cell_type": "code",
   "execution_count": null,
   "metadata": {},
   "outputs": [],
   "source": [
    "# specify the vars of interest\n",
    "analyvars = ['count', 'area', 'light', 'bldngval_light'\\\n",
    "             ,'pop', 'bldngval_pop']"
   ]
  },
  {
   "cell_type": "code",
   "execution_count": null,
   "metadata": {},
   "outputs": [],
   "source": [
    "if False:\n",
    "    for df in [bldngs_grps]:\n",
    "        for var in ['count', 'bldngval_pop', 'bldngval_light']:\n",
    "            df[var + '_norm'] = (df[var] - df[var].min())/ \\\n",
    "            (df[var].max() - df[var].min())\n",
    "            df[var + '_norm_z'] = (df[var] - df[var].mean())/ \\\n",
    "            (df[var].std())\n",
    "            df[var + '_sqrd'] = (df[var]**2)\n",
    "            df[var + '_log'] = np.log(df[var])*(-1)"
   ]
  },
  {
   "cell_type": "code",
   "execution_count": null,
   "metadata": {},
   "outputs": [],
   "source": [
    "try:\n",
    "    df = bldngs_grps.groupby(bldngs_grps['count'])\\\n",
    "                    .mean().reset_index()\n",
    "    grouped = df[analyvars]\n",
    "except:\n",
    "    df = bldngs_grps.groupby(bldngs_grps['count'])\\\n",
    "                    .mean().reset_index()\n",
    "    grouped = df[analyvars]"
   ]
  },
  {
   "cell_type": "code",
   "execution_count": null,
   "metadata": {},
   "outputs": [],
   "source": [
    "sns.set(style = 'dark')\n",
    "f, axes = plt.subplots(2, 2, figsize = (8,5), sharex = True)\n",
    "plt.subplots_adjust(bottom = 0.1, top = 0.9, left = 0.125\\\n",
    "                    , right = 0.9, hspace = 0.2, wspace = .3)\n",
    "# for data in [grouped, bldngs_grps]:\n",
    "for y,axis in zip(['light','bldngval_light', 'pop', 'bldngval_light']\\\n",
    "                  , [(0,0),(0,1),(1,0),(1,1)]):\n",
    "    sns.scatterplot(y = y, x = 'count', data = bldngs_grps\\\n",
    "                    , ax = axes[axis])"
   ]
  },
  {
   "cell_type": "code",
   "execution_count": null,
   "metadata": {},
   "outputs": [],
   "source": [
    "corr = bldngs_grps[analyvars].corr()\n",
    "sns.heatmap(corr, \n",
    "            xticklabels=corr.columns.values,\n",
    "            yticklabels=corr.columns.values,\n",
    "            annot=True, cmap = \"YlGnBu\")"
   ]
  },
  {
   "cell_type": "code",
   "execution_count": null,
   "metadata": {},
   "outputs": [],
   "source": [
    "f, axes = plt.subplots(2, 2, figsize = (8,5), sharex = True)\n",
    "plt.subplots_adjust(bottom = 0.1, top = 0.9, left = 0.125\\\n",
    "                    , right = 0.9, hspace = 0.2, wspace = .3)\n",
    "for y,axis in zip(['light','bldngval_light', 'pop', 'bldngval_pop']\\\n",
    "                  , [(0,0),(0,1),(1,0),(1,1)]):\n",
    "    sns.scatterplot(y = y, x = 'count', data = grouped\\\n",
    "                    , ax = axes[axis])"
   ]
  },
  {
   "cell_type": "code",
   "execution_count": null,
   "metadata": {},
   "outputs": [],
   "source": [
    "corr = grouped.corr()\n",
    "sns.heatmap(corr, \n",
    "            xticklabels=corr.columns.values,\n",
    "            yticklabels=corr.columns.values,\n",
    "            annot=True, cmap = \"YlGnBu\")"
   ]
  },
  {
   "cell_type": "code",
   "execution_count": null,
   "metadata": {},
   "outputs": [],
   "source": [
    "stop_time = time.time()\n",
    "print 'So far, this notebook took ' \\\n",
    "        + str(int((stop_time-start_time)/60/60)) + ' Hours ' \\\n",
    "        + str(int((stop_time-start_time)/60)) + ' Minutes ' \\\n",
    "        + 'and ' + str(int(stop_time-start_time)%60) + ' Seconds'"
   ]
  },
  {
   "cell_type": "code",
   "execution_count": null,
   "metadata": {},
   "outputs": [],
   "source": [
    "# state_groups = bldngs.groupby(bldngs['state']).sum()\n",
    "cluster_groups = bldngs.groupby(bldngs['cluster_k5']).sum()\n",
    "total = bldngs.sum()"
   ]
  },
  {
   "cell_type": "code",
   "execution_count": null,
   "metadata": {},
   "outputs": [],
   "source": [
    "(cluster_groups[['count','area','bldngval_light','bldngval_pop']]\\\n",
    "         /1000000)\\\n",
    "        .astype(float)"
   ]
  },
  {
   "cell_type": "code",
   "execution_count": null,
   "metadata": {},
   "outputs": [],
   "source": [
    "(total[['count','area','bldngval_light','bldngval_pop']]/1000000)\\\n",
    "        .astype(float).reset_index()"
   ]
  },
  {
   "cell_type": "markdown",
   "metadata": {},
   "source": [
    "### 3D"
   ]
  },
  {
   "cell_type": "code",
   "execution_count": 4,
   "metadata": {},
   "outputs": [],
   "source": [
    "# Regroup\n",
    "grouper = 0.05\n",
    "for place in ['lat','long']:\n",
    "    bldngs['group_' + str(place)] = bldngs[str(place) + 'itude']\\\n",
    "                            .apply(lambda x: round(x / grouper) * grouper)\n",
    "bldngs['count'] = 1\n",
    "bldngs_grps = bldngs.drop(columns=['latitude','longitude'])\\\n",
    "                          .groupby(['group_long', 'group_lat'])\\\n",
    "                            .sum()\\\n",
    "                            .sort_values(by='count', ascending=True)\\\n",
    "                            .reset_index()"
   ]
  },
  {
   "cell_type": "code",
   "execution_count": 5,
   "metadata": {},
   "outputs": [
    {
     "name": "stdout",
     "output_type": "stream",
     "text": [
      "Total Buildings: 8,555,103\n",
      "Total Groups: 24,894\n",
      "Group Reduction from HectoMeter: 2,944,541\n"
     ]
    }
   ],
   "source": [
    "print \"Total Buildings: \" + \"{:,}\".format(len(bldngs))\n",
    "print \"Total Groups: \" + \"{:,}\".format(len(bldngs_grps))\n",
    "print \"Group Reduction from HectoMeter: \" \\\n",
    "        + \"{:,}\".format(len(bldngs_grps_initial)-len(bldngs_grps))"
   ]
  },
  {
   "cell_type": "code",
   "execution_count": 6,
   "metadata": {},
   "outputs": [
    {
     "data": {
      "application/vnd.jupyter.widget-view+json": {
       "model_id": "fae0d1f8aa4448a4826b182c1e83e99c",
       "version_major": 2,
       "version_minor": 0
      },
      "text/plain": [
       "HBox(children=(IntProgress(value=0, max=40), HTML(value=u'')))"
      ]
     },
     "metadata": {},
     "output_type": "display_data"
    },
    {
     "name": "stdout",
     "output_type": "stream",
     "text": [
      "\n",
      "\n",
      "        ----\n",
      "        to gif-ify run the following in terminal\n",
      "        convert -delay 50 3dgraph*pop.png animated_graph_pop.gif\n",
      "        convert -delay 50 3dgraph*count.png animated_graph_count.gif\n",
      "        convert -delay 50 3dgraph*light.png animated_graph_light.gif\n",
      "        ----\n",
      "        \n",
      "This graph took 2 Hours 137 Minutes and 4 Seconds\n"
     ]
    }
   ],
   "source": [
    "graph_start = time.time()\n",
    "df = bldngs_grps[:]\n",
    "\n",
    "# for catg in tqdm(['pop','light', 'count']):\n",
    "for angle in tqdm(range(120, 360, 6)):\n",
    "\n",
    "    catg = 'pop'\n",
    "\n",
    "    fig = plt.figure()\n",
    "    ax1 = fig.add_subplot(111, projection='3d')\n",
    "\n",
    "    x3 = df['group_long']\n",
    "    y3 = df['group_lat']\n",
    "    z3 = np.zeros(len(df['group_long']))\n",
    "\n",
    "    dx = np.ones(len(df['group_long']))*grouper\n",
    "    dy = np.ones(len(df['group_long']))*grouper\n",
    "    dz = df[catg]\n",
    "\n",
    "    cmap = cm.get_cmap('plasma')\n",
    "    max_height = np.max(dz)\n",
    "    min_height = np.min(dz)\n",
    "    rgba = [cmap((k-min_height)/max_height) for k in dz] \n",
    "\n",
    "\n",
    "    angle = angle\n",
    "\n",
    "    ax1.bar3d(x3, y3, z3, dx, dy, dz, color=rgba, zsort='average'\\\n",
    "              , edgecolor = \"none\")\n",
    "\n",
    "    ax1.set_xlabel('x axis')\n",
    "    ax1.set_ylabel('y axis')\n",
    "    ax1.set_zlabel('z axis')\n",
    "    ax1.view_init(30, angle)\n",
    "\n",
    "\n",
    "    filename = data_folder + 'gifgraph/3dgraph_' \\\n",
    "                            + str(angle) + str(catg) + '.png'\n",
    "    plt.savefig(filename, dpi=96)\n",
    "    plt.gca()\n",
    "    \n",
    "    plt.clf()\n",
    "    plt.cla()\n",
    "    plt.close()\n",
    "\n",
    "graph_stop = time.time()\n",
    "\n",
    "print \"\"\"\n",
    "        ----\n",
    "        to gif-ify run the following in terminal\n",
    "        convert -delay 50 3dgraph*pop.png animated_graph_pop.gif\n",
    "        convert -delay 50 3dgraph*count.png animated_graph_count.gif\n",
    "        convert -delay 50 3dgraph*light.png animated_graph_light.gif\n",
    "        ----\n",
    "        \"\"\" \n",
    "\n",
    "print 'This graph took ' \\\n",
    "        + str(int((graph_stop-graph_start)/60/60)) + ' Hours ' \\\n",
    "        + str(int((graph_stop-graph_start)/60)) + ' Minutes ' \\\n",
    "        + 'and ' + str(int(graph_stop-graph_start)%60) + ' Seconds'"
   ]
  },
  {
   "cell_type": "code",
   "execution_count": null,
   "metadata": {},
   "outputs": [
    {
     "data": {
      "application/vnd.jupyter.widget-view+json": {
       "model_id": "1cc2a01e2b034e1ebc6a33f4e456d11c",
       "version_major": 2,
       "version_minor": 0
      },
      "text/plain": [
       "HBox(children=(IntProgress(value=0, max=2), HTML(value=u'')))"
      ]
     },
     "metadata": {},
     "output_type": "display_data"
    },
    {
     "data": {
      "application/vnd.jupyter.widget-view+json": {
       "model_id": "6684eaac38844a4a9dc52236f3da5d7c",
       "version_major": 2,
       "version_minor": 0
      },
      "text/plain": [
       "HBox(children=(IntProgress(value=0, max=60), HTML(value=u'')))"
      ]
     },
     "metadata": {},
     "output_type": "display_data"
    },
    {
     "data": {
      "application/vnd.jupyter.widget-view+json": {
       "model_id": "98acd4430b864c3592a26412b7a840db",
       "version_major": 2,
       "version_minor": 0
      },
      "text/plain": [
       "HBox(children=(IntProgress(value=0, max=60), HTML(value=u'')))"
      ]
     },
     "metadata": {},
     "output_type": "display_data"
    }
   ],
   "source": [
    "graph_start = time.time()\n",
    "df = bldngs_grps[:]\n",
    "\n",
    "for catg in tqdm(['light', 'count']):\n",
    "    for angle in tqdm(range(0, 360, 6)):\n",
    "\n",
    "        fig = plt.figure()\n",
    "        ax1 = fig.add_subplot(111, projection='3d')\n",
    "\n",
    "        x3 = df['group_long']\n",
    "        y3 = df['group_lat']\n",
    "        z3 = np.zeros(len(df['group_long']))\n",
    "\n",
    "        dx = np.ones(len(df['group_long']))*grouper\n",
    "        dy = np.ones(len(df['group_long']))*grouper\n",
    "        dz = df[catg]\n",
    "\n",
    "        cmap = cm.get_cmap('plasma')\n",
    "        max_height = np.max(dz)\n",
    "        min_height = np.min(dz)\n",
    "        rgba = [cmap((k-min_height)/max_height) for k in dz] \n",
    "\n",
    "\n",
    "        angle = angle\n",
    "\n",
    "        ax1.bar3d(x3, y3, z3, dx, dy, dz, color=rgba, zsort='average'\\\n",
    "                  , edgecolor = \"none\")\n",
    "\n",
    "        ax1.set_xlabel('x axis')\n",
    "        ax1.set_ylabel('y axis')\n",
    "        ax1.set_zlabel('z axis')\n",
    "        ax1.view_init(30, angle)\n",
    "\n",
    "\n",
    "        filename = data_folder + 'gifgraph/3dgraph_' \\\n",
    "                                + str(angle) + str(catg) + '.png'\n",
    "        plt.savefig(filename, dpi=96)\n",
    "        plt.gca()\n",
    "\n",
    "        plt.clf()\n",
    "        plt.cla()\n",
    "        plt.close()\n",
    "\n",
    "graph_stop = time.time()\n",
    "\n",
    "print \"\"\"\n",
    "        ----\n",
    "        to gif-ify run the following in terminal\n",
    "        convert -delay 20 3dgraph*pop.png animated_graph_pop.gif\n",
    "        convert -delay 50 3dgraph*count.png animated_graph_count.gif\n",
    "        convert -delay 50 3dgraph*light.png animated_graph_light.gif\n",
    "        ----\n",
    "        \"\"\" \n",
    "\n",
    "print 'This graph took ' \\\n",
    "        + str(int((graph_stop-graph_start)/60/60)) + ' Hours ' \\\n",
    "        + str(int((graph_stop-graph_start)/60)) + ' Minutes ' \\\n",
    "        + 'and ' + str(int(graph_stop-graph_start)%60) + ' Seconds'"
   ]
  },
  {
   "cell_type": "code",
   "execution_count": null,
   "metadata": {},
   "outputs": [],
   "source": [
    "stop_time = time.time()\n",
    "print 'This notebook took ' \\\n",
    "        + str(int((stop_time-start_time)/60/60)) + ' Hours ' \\\n",
    "        + str(int((stop_time-start_time)/60)) + ' Minutes ' \\\n",
    "        + 'and ' + str(int(stop_time-start_time)%60) + ' Seconds'"
   ]
  }
 ],
 "metadata": {
  "kernelspec": {
   "display_name": "Python 2",
   "language": "python",
   "name": "python2"
  },
  "language_info": {
   "codemirror_mode": {
    "name": "ipython",
    "version": 2
   },
   "file_extension": ".py",
   "mimetype": "text/x-python",
   "name": "python",
   "nbconvert_exporter": "python",
   "pygments_lexer": "ipython2",
   "version": "2.7.15"
  }
 },
 "nbformat": 4,
 "nbformat_minor": 2
}
