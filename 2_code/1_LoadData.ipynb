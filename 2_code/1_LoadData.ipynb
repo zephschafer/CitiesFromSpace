{
 "cells": [
  {
   "cell_type": "markdown",
   "metadata": {},
   "source": [
    "# Load, Shrink, Compile\n",
    "\n",
    "The GeoJSON source files are large and slow to open. To circumvent that delay, this notebook reads bits of them into slices and then recompiles the slices as CSVs where each polygon (formerly) becomes the coordinates of the polygon's centroid with an associated \"area\" value which represents the area of the polygon (i.e. the building footprint).\n",
    "\n",
    "The slicer function is \"slice_files\". It is defined in slicer.py, which is located in the same directory as this notebook.\n",
    "\n",
    "### Steps:\n",
    "#### 1 - Import Modules and Data\n",
    "#### 2 - Slice the GeoJSONs\n",
    "#### 3 - Compile Slices as CSVs with centroids and area\n",
    "####   \n"
   ]
  },
  {
   "cell_type": "markdown",
   "metadata": {},
   "source": [
    "### Import Modules, Set Paths, and Start the Clock\n"
   ]
  },
  {
   "cell_type": "code",
   "execution_count": 1,
   "metadata": {},
   "outputs": [],
   "source": [
    "import datetime\n",
    "from tqdm import tqdm_notebook as tqdm\n",
    "from slicer import slice_files\n",
    "import json\n",
    "import os, os.path\n",
    "import geopandas as gpd\n",
    "import pandas as pd"
   ]
  },
  {
   "cell_type": "code",
   "execution_count": 6,
   "metadata": {},
   "outputs": [],
   "source": [
    "# Set Main Directories\n",
    "project_folder = '../'\n",
    "data_folder = project_folder + '1_data/'"
   ]
  },
  {
   "cell_type": "code",
   "execution_count": 26,
   "metadata": {},
   "outputs": [
    {
     "name": "stdout",
     "output_type": "stream",
     "text": [
      "2018-12-12 20:35:26.448141\n"
     ]
    }
   ],
   "source": [
    "# Start the clock\n",
    "print datetime.datetime.now()"
   ]
  },
  {
   "cell_type": "markdown",
   "metadata": {},
   "source": [
    "### Slice Files"
   ]
  },
  {
   "cell_type": "code",
   "execution_count": 8,
   "metadata": {},
   "outputs": [
    {
     "data": {
      "application/vnd.jupyter.widget-view+json": {
       "model_id": "d1da59f207104ab38e918cb20776aed7",
       "version_major": 2,
       "version_minor": 0
      },
      "text/plain": [
       "HBox(children=(IntProgress(value=0, max=1), HTML(value=u'')))"
      ]
     },
     "metadata": {},
     "output_type": "display_data"
    },
    {
     "name": "stdout",
     "output_type": "stream",
     "text": [
      "The 1,809,555 buildings from OR will go into 37 slice files\n",
      "\n"
     ]
    }
   ],
   "source": [
    "# Set State\n",
    "states = [('Oregon','OR'), ('California', 'CA'),\\\n",
    "          ('Washington','WA')]\n",
    "slice_length = 50000\n",
    "\n",
    "# Will the data from Miscrosoft's GitHub and save in Slices \n",
    "for state, state_abbv in tqdm(states):\n",
    "    slice_files(state, state_abbv, data_folder, slice_length)"
   ]
  },
  {
   "cell_type": "markdown",
   "metadata": {},
   "source": [
    "### Compile Slices info to CSVs"
   ]
  },
  {
   "cell_type": "code",
   "execution_count": 29,
   "metadata": {},
   "outputs": [
    {
     "name": "stdout",
     "output_type": "stream",
     "text": [
      "Compiling Oregon:\n"
     ]
    },
    {
     "data": {
      "application/vnd.jupyter.widget-view+json": {
       "model_id": "499dd9f4a0ed454eaebffcf8d956b46b",
       "version_major": 2,
       "version_minor": 0
      },
      "text/plain": [
       "HBox(children=(IntProgress(value=0, max=37), HTML(value=u'')))"
      ]
     },
     "metadata": {},
     "output_type": "display_data"
    },
    {
     "name": "stdout",
     "output_type": "stream",
     "text": [
      "Recorded: ['area', 'latitude', 'longitude'] for 1.81 Million Buildings from Oregon\n",
      "Compiling California:\n"
     ]
    },
    {
     "data": {
      "application/vnd.jupyter.widget-view+json": {
       "model_id": "5901f80f94714b429503338be2ecc74c",
       "version_major": 2,
       "version_minor": 0
      },
      "text/plain": [
       "HBox(children=(IntProgress(value=0, max=220), HTML(value=u'')))"
      ]
     },
     "metadata": {},
     "output_type": "display_data"
    },
    {
     "name": "stdout",
     "output_type": "stream",
     "text": [
      "Recorded: ['area', 'latitude', 'longitude'] for 10.99 Million Buildings from California\n",
      "Compiling Washington:\n"
     ]
    },
    {
     "data": {
      "application/vnd.jupyter.widget-view+json": {
       "model_id": "59d10068d40a4ed285eadb0a619910fd",
       "version_major": 2,
       "version_minor": 0
      },
      "text/plain": [
       "HBox(children=(IntProgress(value=0, max=60), HTML(value=u'')))"
      ]
     },
     "metadata": {},
     "output_type": "display_data"
    },
    {
     "name": "stdout",
     "output_type": "stream",
     "text": [
      "Recorded: ['area', 'latitude', 'longitude'] for 2.99 Million Buildings from Washington\n"
     ]
    }
   ],
   "source": [
    "for state, state_abbv in states:\n",
    "    state_slice_folder = data_folder + 'states_slices/'\\\n",
    "                        + state_abbv + '/'\n",
    "    slices = os.listdir(state_slice_folder)\n",
    "    i = 0\n",
    "    print \"Compiling \" + state + \":\"\n",
    "    for file_name in tqdm(slices):\n",
    "        # Read Slice\n",
    "        file = gpd.read_file(state_slice_folder + file_name)\n",
    "        # Get Area Meters^2 from Slice Using Cartesian(?) Projection <https://gis.stackexchange.com/questions/218450/getting-polygon-areas-using-geopandas>\n",
    "        area_slice = file.to_crs({'init': 'epsg:3857'}).area\n",
    "        area_slice = area_slice.apply(lambda footprint: round(footprint,4)).tolist()\n",
    "        # Get Centroids from Slice\n",
    "        centroids = file.geometry.centroid\n",
    "        lat_slice = centroids.apply(lambda coordinate: round(coordinate.x,6)).tolist()\n",
    "        lon_slice = centroids.apply(lambda coordinate: round(coordinate.y,6)).tolist()\n",
    "        # On First Pass: Start List of Centroid\n",
    "        if i == 0:\n",
    "            lat = lat_slice\n",
    "            lon = lon_slice\n",
    "            area = area_slice\n",
    "        # On Subsequent Passes: Append to List of Centroids\n",
    "        else: \n",
    "            for point in lat_slice:\n",
    "                lat.append(point)\n",
    "            for point in lon_slice:\n",
    "                lon.append(point)\n",
    "            for footprint in area_slice:\n",
    "                area.append(round(footprint,4))\n",
    "        i += 1\n",
    "    # Given Centroids, Define Dataframe\n",
    "    df = pd.DataFrame({'longitude':lat, 'latitude':lon, 'area':area})\n",
    "    # Export Centroids in csv\n",
    "    df.to_csv(data_folder + 'states_csv/' + state + '.csv')\n",
    "    print 'Recorded: ' + str(df.columns.tolist()) + ' for '\\\n",
    "        + str(round(len(df)/1000000.0,2)) \\\n",
    "        + ' Million Buildings from ' + state\n",
    "    # Now remove df from mem. for next iteration\n",
    "    del df\n",
    "    "
   ]
  },
  {
   "cell_type": "code",
   "execution_count": 30,
   "metadata": {},
   "outputs": [
    {
     "name": "stdout",
     "output_type": "stream",
     "text": [
      "2018-12-12 21:59:44.350089\n"
     ]
    }
   ],
   "source": [
    "# Stop the clock\n",
    "print datetime.datetime.now()"
   ]
  },
  {
   "cell_type": "code",
   "execution_count": null,
   "metadata": {},
   "outputs": [],
   "source": []
  }
 ],
 "metadata": {
  "kernelspec": {
   "display_name": "Python 2",
   "language": "python",
   "name": "python2"
  },
  "language_info": {
   "codemirror_mode": {
    "name": "ipython",
    "version": 2
   },
   "file_extension": ".py",
   "mimetype": "text/x-python",
   "name": "python",
   "nbconvert_exporter": "python",
   "pygments_lexer": "ipython2",
   "version": "2.7.15"
  }
 },
 "nbformat": 4,
 "nbformat_minor": 2
}
