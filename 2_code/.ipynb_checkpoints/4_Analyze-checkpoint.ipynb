{
 "cells": [
  {
   "cell_type": "markdown",
   "metadata": {},
   "source": [
    "# Analyze the Data\n",
    "\n",
    "#### 1 - Load Clean Building Data\n",
    "#### 2 - Analyze\n",
    "####   \n"
   ]
  },
  {
   "cell_type": "markdown",
   "metadata": {},
   "source": [
    "### Import Modules and Data\n"
   ]
  },
  {
   "cell_type": "code",
   "execution_count": 1,
   "metadata": {},
   "outputs": [],
   "source": [
    "import os\n",
    "import shutil\n",
    "import rasterio\n",
    "from tqdm import tqdm_notebook as tqdm\n",
    "import matplotlib.cm as cm\n",
    "import random\n",
    "import pandas as pd\n",
    "import numpy as np\n",
    "import seaborn as sns; sns.set()\n",
    "import matplotlib.pyplot as plt\n",
    "import time\n",
    "import warnings\n",
    "warnings.filterwarnings('ignore')\n",
    "from mpl_toolkits.mplot3d import axes3d"
   ]
  },
  {
   "cell_type": "code",
   "execution_count": 2,
   "metadata": {},
   "outputs": [],
   "source": [
    "# Set Main Directories\n",
    "project_folder = '../'\n",
    "data_folder = project_folder + '1_data/'\n",
    "gif_folder = data_folder + 'gifgraph/'"
   ]
  },
  {
   "cell_type": "code",
   "execution_count": null,
   "metadata": {},
   "outputs": [],
   "source": [
    "# Start the clock\n",
    "start_time = time.time()"
   ]
  },
  {
   "cell_type": "markdown",
   "metadata": {},
   "source": [
    "### Get Data - CSV Verion"
   ]
  },
  {
   "cell_type": "code",
   "execution_count": 3,
   "metadata": {},
   "outputs": [],
   "source": [
    "bldngs_grps_initial = pd.read_csv(data_folder + \"bldng_groups.csv\")\n",
    "bldngs_grps_initial.drop(columns=['Unnamed: 0'], inplace=True)\n",
    "bldngs = pd.read_csv(data_folder + \"bldngs.csv\")\n",
    "bldngs.drop(columns=['Unnamed: 0'], inplace=True)"
   ]
  },
  {
   "cell_type": "code",
   "execution_count": null,
   "metadata": {},
   "outputs": [],
   "source": [
    "# Regroup\n",
    "for place in ['lat','long']:\n",
    "    bldngs['group_' + str(place)] = bldngs[str(place) + 'itude']\\\n",
    "                            .apply(lambda x: round(x / 0.003) * 0.003)\n",
    "bldngs['count'] = 1\n",
    "bldngs_grps = bldngs.drop(columns=['latitude','longitude'])\\\n",
    "                          .groupby(['group_long', 'group_lat'])\\\n",
    "                            .sum()\\\n",
    "                            .sort_values(by='count', ascending=True)\\\n",
    "                            .reset_index()"
   ]
  },
  {
   "cell_type": "code",
   "execution_count": null,
   "metadata": {},
   "outputs": [],
   "source": [
    "print \"Total Buildings: \" + \"{:,}\".format(len(bldngs))\n",
    "print \"Total Groups: \" + \"{:,}\".format(len(bldngs_grps))\n",
    "print \"Group Reduction from HectoMeter: \" \\\n",
    "        + \"{:,}\".format(len(bldngs_grps_initial)-len(bldngs_grps))"
   ]
  },
  {
   "cell_type": "code",
   "execution_count": null,
   "metadata": {},
   "outputs": [],
   "source": [
    "# specify the vars of interest\n",
    "analyvars = ['count', 'area', 'light', 'bldngval_light'\\\n",
    "             ,'pop', 'bldngval_pop']"
   ]
  },
  {
   "cell_type": "code",
   "execution_count": null,
   "metadata": {},
   "outputs": [],
   "source": [
    "if False:\n",
    "    for df in [bldngs_grps]:\n",
    "        for var in ['count', 'bldngval_pop', 'bldngval_light']:\n",
    "            df[var + '_norm'] = (df[var] - df[var].min())/ \\\n",
    "            (df[var].max() - df[var].min())\n",
    "            df[var + '_norm_z'] = (df[var] - df[var].mean())/ \\\n",
    "            (df[var].std())\n",
    "            df[var + '_sqrd'] = (df[var]**2)\n",
    "            df[var + '_log'] = np.log(df[var])*(-1)"
   ]
  },
  {
   "cell_type": "code",
   "execution_count": null,
   "metadata": {},
   "outputs": [],
   "source": [
    "try:\n",
    "    df = bldngs_grps.groupby(bldngs_grps['count'])\\\n",
    "                    .mean().reset_index()\n",
    "    grouped = df[analyvars]\n",
    "except:\n",
    "    df = bldngs_grps.groupby(bldngs_grps['count'])\\\n",
    "                    .mean().reset_index()\n",
    "    grouped = df[analyvars]"
   ]
  },
  {
   "cell_type": "code",
   "execution_count": null,
   "metadata": {},
   "outputs": [],
   "source": [
    "sns.set(style = 'dark')\n",
    "f, axes = plt.subplots(2, 2, figsize = (8,5), sharex = True)\n",
    "plt.subplots_adjust(bottom = 0.1, top = 0.9, left = 0.125\\\n",
    "                    , right = 0.9, hspace = 0.2, wspace = .3)\n",
    "# for data in [grouped, bldngs_grps]:\n",
    "for y,axis in zip(['light','bldngval_light', 'pop', 'bldngval_light']\\\n",
    "                  , [(0,0),(0,1),(1,0),(1,1)]):\n",
    "    sns.scatterplot(y = y, x = 'count', data = bldngs_grps\\\n",
    "                    , ax = axes[axis])"
   ]
  },
  {
   "cell_type": "code",
   "execution_count": null,
   "metadata": {},
   "outputs": [],
   "source": [
    "corr = bldngs_grps[analyvars].corr()\n",
    "sns.heatmap(corr, \n",
    "            xticklabels=corr.columns.values,\n",
    "            yticklabels=corr.columns.values,\n",
    "            annot=True, cmap = \"YlGnBu\")"
   ]
  },
  {
   "cell_type": "code",
   "execution_count": null,
   "metadata": {},
   "outputs": [],
   "source": [
    "f, axes = plt.subplots(2, 2, figsize = (8,5), sharex = True)\n",
    "plt.subplots_adjust(bottom = 0.1, top = 0.9, left = 0.125\\\n",
    "                    , right = 0.9, hspace = 0.2, wspace = .3)\n",
    "for y,axis in zip(['light','bldngval_light', 'pop', 'bldngval_pop']\\\n",
    "                  , [(0,0),(0,1),(1,0),(1,1)]):\n",
    "    sns.scatterplot(y = y, x = 'count', data = grouped\\\n",
    "                    , ax = axes[axis])"
   ]
  },
  {
   "cell_type": "code",
   "execution_count": null,
   "metadata": {},
   "outputs": [],
   "source": [
    "corr = grouped.corr()\n",
    "sns.heatmap(corr, \n",
    "            xticklabels=corr.columns.values,\n",
    "            yticklabels=corr.columns.values,\n",
    "            annot=True, cmap = \"YlGnBu\")"
   ]
  },
  {
   "cell_type": "code",
   "execution_count": null,
   "metadata": {},
   "outputs": [],
   "source": [
    "# state_groups = bldngs.groupby(bldngs['state']).sum()\n",
    "cluster_groups = bldngs.groupby(bldngs['cluster_k5']).sum()\n",
    "total = bldngs.sum()"
   ]
  },
  {
   "cell_type": "code",
   "execution_count": null,
   "metadata": {},
   "outputs": [],
   "source": [
    "(cluster_groups[['count','area','bldngval_light','bldngval_pop']]\\\n",
    "         /1000000)\\\n",
    "        .astype(float)"
   ]
  },
  {
   "cell_type": "code",
   "execution_count": null,
   "metadata": {},
   "outputs": [],
   "source": [
    "(total[['count','area','bldngval_light','bldngval_pop']]/1000000)\\\n",
    "        .astype(float).reset_index()"
   ]
  },
  {
   "cell_type": "code",
   "execution_count": null,
   "metadata": {},
   "outputs": [],
   "source": [
    "stop_time = time.time()\n",
    "print 'This notebook took ' \\\n",
    "        + str(int((stop_time-start_time)/60/60)) + ' Hours ' \\\n",
    "        + str(int((stop_time-start_time)/60)) + ' Minutes ' \\\n",
    "        + 'and ' + str(int(stop_time-start_time)%60) + ' Seconds'"
   ]
  }
 ],
 "metadata": {
  "kernelspec": {
   "display_name": "Python 2",
   "language": "python",
   "name": "python2"
  },
  "language_info": {
   "codemirror_mode": {
    "name": "ipython",
    "version": 2
   },
   "file_extension": ".py",
   "mimetype": "text/x-python",
   "name": "python",
   "nbconvert_exporter": "python",
   "pygments_lexer": "ipython2",
   "version": "2.7.15"
  }
 },
 "nbformat": 4,
 "nbformat_minor": 2
}
